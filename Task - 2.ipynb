{
 "cells": [
  {
   "cell_type": "markdown",
   "metadata": {},
   "source": [
    "# Assignment - 1"
   ]
  },
  {
   "cell_type": "markdown",
   "metadata": {},
   "source": [
    "## Task - 2 :"
   ]
  },
  {
   "cell_type": "markdown",
   "metadata": {},
   "source": [
    "Question\n",
    "1. \n",
    "Write a program which accepts a sequence of comma-separated numbers from console and generate a list. "
   ]
  },
  {
   "cell_type": "code",
   "execution_count": 1,
   "metadata": {},
   "outputs": [
    {
     "name": "stdout",
     "output_type": "stream",
     "text": [
      "Enter some comma seperated numbers:4,10,55,32,27,68\n",
      "The List: ['4', '10', '55', '32', '27', '68']\n"
     ]
    }
   ],
   "source": [
    "# Enter some values which are taken as a input from console:\n",
    "Numbers = input(\"Enter some comma seperated numbers:\")\n",
    "\n",
    "# take the 'Numbers' variable\n",
    "# make a list variable\n",
    "# apply the split method to seperate the values \n",
    "# from the numbers variable\n",
    "list = Numbers.split(',')\n",
    "\n",
    "# Now the end of the output make them as a list\n",
    "print('The List:', list)"
   ]
  },
  {
   "cell_type": "markdown",
   "metadata": {},
   "source": [
    "Question\n",
    "2. Create the below pattern using nested for loop in Python."
   ]
  },
  {
   "cell_type": "raw",
   "metadata": {},
   "source": [
    "*  \n",
    "* * \n",
    "* * *\n",
    "* * * *  \n",
    "* * * * *  \n",
    "* * * *  \n",
    "* * *\n",
    "* *\n",
    "* "
   ]
  },
  {
   "cell_type": "code",
   "execution_count": 2,
   "metadata": {},
   "outputs": [
    {
     "name": "stdout",
     "output_type": "stream",
     "text": [
      "Enter max star to be diplay and Enter a number:5\n",
      "* \n",
      "* * \n",
      "* * * \n",
      "* * * * \n",
      "* * * * * \n",
      "* * * * \n",
      "* * * \n",
      "* * \n",
      "* \n",
      "\n"
     ]
    }
   ],
   "source": [
    "n = int(input('Enter max star to be diplay and Enter a number:'))\n",
    "\n",
    "for i in range(0, n):\n",
    "    for j in range(0, i + 1):\n",
    "        print('*', end=' ')\n",
    "    print('\\r')\n",
    "\n",
    "for i in range(n, 0, -1):\n",
    "    for j in range(0, i - 1):\n",
    "        print('*', end=' ')\n",
    "    print('\\r')"
   ]
  },
  {
   "cell_type": "markdown",
   "metadata": {},
   "source": [
    "The second way which I solved by using with out nested loop if you consider this, I'm happy for that."
   ]
  },
  {
   "cell_type": "code",
   "execution_count": 3,
   "metadata": {},
   "outputs": [
    {
     "name": "stdout",
     "output_type": "stream",
     "text": [
      "Enter max star to be diplay and Enter a number:5\n",
      "* \n",
      "* * \n",
      "* * * \n",
      "* * * * \n",
      "* * * * * \n",
      "* * * * \n",
      "* * * \n",
      "* * \n",
      "* \n"
     ]
    }
   ],
   "source": [
    "n = int(input('Enter max star to be diplay and Enter a number:'))\n",
    "for i in range(n):\n",
    "    print('* ' * (i + 1))\n",
    "\n",
    "for i in range(n - 1):\n",
    "    print('* ' * (n - i - 1))"
   ]
  },
  {
   "cell_type": "markdown",
   "metadata": {},
   "source": [
    "Question\n",
    "3. Write a Python program to reverse a word after accepting the input from the user."
   ]
  },
  {
   "cell_type": "code",
   "execution_count": 5,
   "metadata": {},
   "outputs": [
    {
     "name": "stdout",
     "output_type": "stream",
     "text": [
      "Enter the word to reverse: Madhan Chaithanya\n",
      "aynahtiahC nahdaM\n"
     ]
    }
   ],
   "source": [
    "# take the word from the user through\n",
    "# input funtion\n",
    "s = input('Enter the word to reverse: ')\n",
    "\n",
    "# take output variable as a empty string\n",
    "output = ''\n",
    "\n",
    "# take other variable -> i\n",
    "# it should be treated as a whole word length\n",
    "# from that it be created as a reverse like \n",
    "# taking an index at an ending letter and then it prints\n",
    "# the reverse content\n",
    "i = len(s) - 1\n",
    "while i >= 0:\n",
    "    output = output + s[i]\n",
    "    i = i - 1\n",
    "\n",
    "# the final reversed content will be printed as follows:\n",
    "print(output)"
   ]
  },
  {
   "cell_type": "markdown",
   "metadata": {},
   "source": [
    "Question\n",
    "4. \n",
    "Write a Python Program to print the given string in the format specified in the sample output."
   ]
  },
  {
   "cell_type": "raw",
   "metadata": {
    "raw_mimetype": "text/markdown"
   },
   "source": [
    "WE, THE PEOPLE OF INDIA,\n",
    "       having solemnly resolved to constitute India into a SOVEREIGN, !\n",
    "            SOCIALIST, SECULAR, DEMOCRATIC REPUBLIC\n",
    "             and to secure to all its citizens"
   ]
  },
  {
   "cell_type": "code",
   "execution_count": 6,
   "metadata": {},
   "outputs": [
    {
     "name": "stdout",
     "output_type": "stream",
     "text": [
      "WE, THE PEOPLE OF INDIA,\n",
      "\thaving solemnly resolved to constitute India into a SOVEREIGN,!\n",
      "\t\tSOCIALIST, SECULAR, DEMOCRATIC REPUBLIC\n",
      "\t\t and to secure to all its citizens\n"
     ]
    }
   ],
   "source": [
    "# Enter the text which was asked in the question:\n",
    "test = \"WE, THE PEOPLE OF INDIA,{}having solemnly resolved to constitute India into a SOVEREIGN,{}SOCIALIST, SECULAR, DEMOCRATIC REPUBLIC{}and to secure to all its citizens\"\n",
    "\n",
    "# The required format as follows:\n",
    "print(test.format('\\n\\t', '!\\n\\t\\t', '\\n\\t\\t '))"
   ]
  },
  {
   "cell_type": "code",
   "execution_count": null,
   "metadata": {},
   "outputs": [],
   "source": []
  }
 ],
 "metadata": {
  "kernelspec": {
   "display_name": "Python 3",
   "language": "python",
   "name": "python3"
  },
  "language_info": {
   "codemirror_mode": {
    "name": "ipython",
    "version": 3
   },
   "file_extension": ".py",
   "mimetype": "text/x-python",
   "name": "python",
   "nbconvert_exporter": "python",
   "pygments_lexer": "ipython3",
   "version": "3.7.4"
  }
 },
 "nbformat": 4,
 "nbformat_minor": 2
}
